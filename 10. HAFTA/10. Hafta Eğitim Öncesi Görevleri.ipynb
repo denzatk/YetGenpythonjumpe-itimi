{
 "cells": [
  {
   "attachments": {},
   "cell_type": "markdown",
   "metadata": {},
   "source": [
    "# Problem 1"
   ]
  },
  {
   "cell_type": "code",
   "execution_count": null,
   "metadata": {},
   "outputs": [],
   "source": [
    "# 1 - numpy kütüphanesini import edin\n",
    "\n",
    "# 2 - 0 ile 10 arasında 5 sayıdan oluşan matris üretin\n",
    "\n",
    "# 3 - matris'in boyutunu öğrenin\n",
    "\n",
    "# 4 - matris'i yeniden boyutlandırın\n",
    "\n",
    "# 5 - matris'in boyut sayısını öğrenin\n"
   ]
  },
  {
   "cell_type": "code",
   "execution_count": 3,
   "metadata": {},
   "outputs": [
    {
     "name": "stdout",
     "output_type": "stream",
     "text": [
      "Collecting numpy\n",
      "  Downloading numpy-1.24.3-cp311-cp311-win_amd64.whl (14.8 MB)\n",
      "     ---------------------------------------- 14.8/14.8 MB 5.7 MB/s eta 0:00:00\n",
      "Installing collected packages: numpy\n",
      "Successfully installed numpy-1.24.3\n",
      "Note: you may need to restart the kernel to use updated packages.\n"
     ]
    },
    {
     "name": "stderr",
     "output_type": "stream",
     "text": [
      "\n",
      "[notice] A new release of pip available: 22.3.1 -> 23.1.1\n",
      "[notice] To update, run: python.exe -m pip install --upgrade pip\n"
     ]
    }
   ],
   "source": [
    "pip install numpy"
   ]
  },
  {
   "cell_type": "code",
   "execution_count": 4,
   "metadata": {},
   "outputs": [
    {
     "name": "stdout",
     "output_type": "stream",
     "text": [
      "Matris boyutu: (5,)\n",
      "Matris boyut sayısı: 2\n"
     ]
    }
   ],
   "source": [
    "import numpy as np\n",
    "\n",
    "# Matris oluşturma\n",
    "matris = np.random.randint(0, 10, size=(5))\n",
    "\n",
    "# Matris boyutunu öğrenme\n",
    "boyut = matris.shape\n",
    "print(\"Matris boyutu:\", boyut)\n",
    "\n",
    "# Matris yeniden boyutlandırma\n",
    "matris = matris.reshape((1, 5))\n",
    "\n",
    "# Matris boyut sayısını öğrenme\n",
    "boyut_sayisi = matris.ndim\n",
    "print(\"Matris boyut sayısı:\", boyut_sayisi)"
   ]
  },
  {
   "attachments": {},
   "cell_type": "markdown",
   "metadata": {},
   "source": [
    "# Problem 2"
   ]
  },
  {
   "cell_type": "code",
   "execution_count": null,
   "metadata": {},
   "outputs": [],
   "source": [
    "# 1 - 0 ile 10 arasında bulunan tek sayılardan oluşan matris üretin\n",
    "\n",
    "# 2 - Oluşturduğunuz matrisi parçalayın\n",
    "\n",
    "# 3 - Parçalanmış matrisleri birleştirin\n"
   ]
  },
  {
   "cell_type": "code",
   "execution_count": 8,
   "metadata": {},
   "outputs": [
    {
     "name": "stdout",
     "output_type": "stream",
     "text": [
      "Oluşturulan matris:\n",
      " [[1]\n",
      " [3]\n",
      " [5]\n",
      " [7]\n",
      " [9]]\n",
      "Matrisin boyutu: (5, 1)\n",
      "Yeniden boyutlandırılmış matris:\n",
      " [[1 3 5 7 9]]\n",
      "Yeniden boyutlandırılmış matrisin boyutu: (1, 5)\n"
     ]
    }
   ],
   "source": [
    "import numpy as np\n",
    "\n",
    "# Matris oluşturma\n",
    "matris = np.arange(1, 10, 2).reshape((5, 1))\n",
    "print(\"Oluşturulan matris:\\n\", matris)\n",
    "\n",
    "# Matrisin boyutunu öğrenme\n",
    "boyut = matris.shape\n",
    "print(\"Matrisin boyutu:\", boyut)\n",
    "\n",
    "# Matrisi yeniden boyutlandırma\n",
    "yeniden_boyutlandirilmis_matris = matris.reshape((1, 5))\n",
    "print(\"Yeniden boyutlandırılmış matris:\\n\", yeniden_boyutlandirilmis_matris)\n",
    "\n",
    "# Yeniden boyutlandırılmış matrisin boyutunu öğrenme\n",
    "yeniden_boyutlandirilmis_boyut = yeniden_boyutlandirilmis_matris.shape\n",
    "print(\"Yeniden boyutlandırılmış matrisin boyutu:\", yeniden_boyutlandirilmis_boyut)"
   ]
  },
  {
   "attachments": {},
   "cell_type": "markdown",
   "metadata": {},
   "source": [
    "# Problem 3"
   ]
  },
  {
   "cell_type": "code",
   "execution_count": null,
   "metadata": {},
   "outputs": [],
   "source": [
    "# 1 - 5 ile 100 arasında ikişer ikişer atlayarak rastgele 10 sayıdan oluşan matris üretin\n",
    "\n",
    "# 2 - matris'in özelliklerini inceleyin\n"
   ]
  },
  {
   "cell_type": "code",
   "execution_count": 10,
   "metadata": {},
   "outputs": [
    {
     "data": {
      "text/plain": [
       "array([[1., 1., 1.],\n",
       "       [1., 1., 1.],\n",
       "       [1., 1., 1.],\n",
       "       [1., 1., 1.],\n",
       "       [1., 1., 1.]])"
      ]
     },
     "execution_count": 10,
     "metadata": {},
     "output_type": "execute_result"
    }
   ],
   "source": [
    "np.ones((5,3))\n",
    "\n",
    "# bu yazımda demet şeklinde yazmaya dikkat et yanı kaç tane kaç elemandan olacak derken burada demetler ve sayılar öbemlidir \n",
    "# ilk satır kac tane array yapısı olacak ona karar verir diğer sayı ise ondan kaç adet olacak ona karar verir"
   ]
  },
  {
   "cell_type": "code",
   "execution_count": 9,
   "metadata": {},
   "outputs": [
    {
     "name": "stdout",
     "output_type": "stream",
     "text": [
      "Oluşturulan matris:\n",
      " [[ 5  7  9 11 13]\n",
      " [15 17 19 21 23]]\n",
      "Matrisin boyutu: (2, 5)\n",
      "Matrisin veri tipi: int32\n",
      "Matrisin eleman sayısı: 10\n",
      "Matrisin boyut sayısı: 2\n"
     ]
    }
   ],
   "source": [
    "import numpy as np\n",
    "\n",
    "# Matris oluşturma\n",
    "matris = np.arange(5, 101, 2)[:10].reshape(2, 5)\n",
    "print(\"Oluşturulan matris:\\n\", matris)\n",
    "\n",
    "# Matrisin boyutunu öğrenme\n",
    "boyut = matris.shape\n",
    "print(\"Matrisin boyutu:\", boyut)\n",
    "\n",
    "# Matrisin veri tipini öğrenme\n",
    "veri_tipi = matris.dtype\n",
    "print(\"Matrisin veri tipi:\", veri_tipi)\n",
    "\n",
    "# Matrisin eleman sayısını öğrenme\n",
    "eleman_sayisi = matris.size\n",
    "print(\"Matrisin eleman sayısı:\", eleman_sayisi)\n",
    "\n",
    "# Matrisin boyut sayısını öğrenme\n",
    "boyut_sayisi = matris.ndim\n",
    "print(\"Matrisin boyut sayısı:\", boyut_sayisi)"
   ]
  }
 ],
 "metadata": {
  "kernelspec": {
   "display_name": "Python 3",
   "language": "python",
   "name": "python3"
  },
  "language_info": {
   "codemirror_mode": {
    "name": "ipython",
    "version": 3
   },
   "file_extension": ".py",
   "mimetype": "text/x-python",
   "name": "python",
   "nbconvert_exporter": "python",
   "pygments_lexer": "ipython3",
   "version": "3.11.1"
  },
  "orig_nbformat": 4,
  "vscode": {
   "interpreter": {
    "hash": "5026d2d6e7aaaaba093def813beadff083d8733e4a511af01735cbabd156995d"
   }
  }
 },
 "nbformat": 4,
 "nbformat_minor": 2
}
