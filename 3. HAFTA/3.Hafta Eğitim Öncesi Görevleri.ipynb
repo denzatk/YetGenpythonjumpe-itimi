{
  "cells": [
    {
      "cell_type": "markdown",
      "metadata": {
        "id": "tsD4YVAe_Te2"
      },
      "source": [
        "# Problem 1\n",
        "Bir sayının 7'ye bölünebilir olup olmadığını kontrol etmek \n",
        "için bir program yazın.\n",
        "\n",
        "İpucu: Mod operatörünü (%) kullanabilirsiniz."
      ]
    },
    {
      "cell_type": "code",
      "execution_count": 2,
      "metadata": {
        "id": "NGjvNwKx_Te7"
      },
      "outputs": [
        {
          "name": "stdout",
          "output_type": "stream",
          "text": [
            "Sayı 7ye bölünmez\n"
          ]
        }
      ],
      "source": [
        "# 1.Problemin Çözümünü Buraya Yazınız\n",
        "sayi = input('Sayı : ')\n",
        "if(int(sayi)%7==0):\n",
        "      print(\"Sayı 7ye bölünebilir\")\n",
        "else:\n",
        "      print(\"Sayı 7ye bölünmez\")"
      ]
    },
    {
      "cell_type": "markdown",
      "metadata": {
        "id": "Kg3qiBAI_Te8"
      },
      "source": [
        "# Problem 2\n",
        "Kullanıcıdan vize ve final notu isteyin. Girilen vize notunun %40’ı ve \n",
        "girilen finalnotunun ise %60’ı alınarak yıl sonu not ortalaması hesaplanacaktır. \n",
        "\n",
        "Bu not ortalaması eğer 85 ve üzeri ise AA, \n",
        "\n",
        "75 ve 85 arasında ise BA, \n",
        "\n",
        "70 ve 75 arasında ise BB, \n",
        "\n",
        "65 ve 70 arasında ise CB,\n",
        "\n",
        "60 ve 65 arasında ise CC,\n",
        "\n",
        "55 ve 60 arasında ise DC,\n",
        "\n",
        "50 ve 55 arasında ise DD olarak hesaplanacaktır. \n",
        "\n",
        "Bu öğrencinin yıl sonu toplam notu 50’nin altında ise FF ile dersten kalacaktır. \n",
        "\n",
        "Ayrıca öğrencinin final notu 50’nin altında ise direkt FF ile kalacaktır."
      ]
    },
    {
      "cell_type": "code",
      "execution_count": 3,
      "metadata": {
        "id": "MXTtCxI1_Te8"
      },
      "outputs": [
        {
          "name": "stdout",
          "output_type": "stream",
          "text": [
            "Harf Notu: FF\n",
            "Ortalama\n",
            "46.2\n"
          ]
        }
      ],
      "source": [
        "# 2.Problemin Çözümünü Buraya Yazınız\n",
        "vize1 = input(\"Vize:\")\n",
        "Final = input(\"Final:\")\n",
        "\n",
        "sonuc = int(vize1)*(4/10) + int(Final)*(6/10)\n",
        "\n",
        "if(sonuc >=85):\n",
        "    print(\"Harf Notu: AA\")\n",
        "elif(sonuc>=75):\n",
        "    print(\"Harf Notu: BA\")\n",
        "elif(sonuc>=70):\n",
        "    print(\"Harf Notu: BB\")\n",
        "elif(sonuc>=65):\n",
        "    print(\"Harf Notu: CB\")\n",
        "elif(sonuc>=60):\n",
        "    print(\"Harf Notu: CC\")\n",
        "elif(sonuc>=55):\n",
        "    print(\"Harf Notu: DC\")\n",
        "elif(sonuc>=50):\n",
        "    print(\"Harf Notu: DD\")\n",
        "elif(sonuc<=50):\n",
        "    print(\"Harf Notu: FF\")\n",
        "print (\"Ortalama\") \n",
        "print (sonuc)"
      ]
    },
    {
      "cell_type": "markdown",
      "metadata": {
        "id": "tAoRYCTC_Te8"
      },
      "source": [
        "# Problem 3\n",
        "İki YetGenli Zirve'de karşılaşıyorlar. Birbirlerini tanımak için sorular soruyorlar. Birbirlerine yaşlarını soruyorlar. Akıllarına bir Python programı yazıp, yaşlarını ve isimlerini giriyorlar. Büyük olanın yaşını ekrana yazdıran programı yazıyorlar. Sende bu iki YetGenli'ye destek olmak ister misin?\n",
        "\n",
        "```\n",
        "Birinci YetGenlinin ismi: Ahmet\n",
        "Birinci YetGenlinin yaşı : 20\n",
        "İkinci YetGenlinin ismi: Mehmet\n",
        "İkinci YetGenlinin yaşı : 25\n",
        "Mehmet'in yaşı daha büyük ve yaşı 25'tir.\n",
        "```"
      ]
    },
    {
      "cell_type": "code",
      "execution_count": null,
      "metadata": {
        "id": "bPjE8W0i_Te8"
      },
      "outputs": [],
      "source": [
        "# 3.Problemin Çözümünü Buraya Yazınız\n",
        "birinciİsim= input(\"isim giriniz\")\n",
        "birinciYaş= int(input(\"yaş giriniz\"))\n",
        "\n",
        "ikinciİsim= input(\"isim giriniz\")\n",
        "ikinciYaş= int(input(\"yaş giriniz\"))\n",
        "\n",
        "\n",
        "if birinciYaş> ikinciYaş\n",
        "    print(birinciİsim, \"kişinin yaşı\", ikinciİsim,\" kişinin yaşından büyüktür ve yaşı\", birinciYaş)\n",
        "elif birinciYaş<ikinciYaş\n",
        "     print(ikinciİsim, \"kişinin yaşı\", birinciİsim,\" kişinin yaşından büyüktür ve yaşı\", ikinciYaş)\n",
        "else:\n",
        "     print(yaşlar eşittir.)"
      ]
    },
    {
      "cell_type": "markdown",
      "metadata": {
        "id": "zBVv8Tyg_Te9"
      },
      "source": [
        "# Problem 4\n",
        "Pandemi döneminde AVM'lerde ateş ölçümü yapılıyor. AVM'ye giren kişinin ateş ölçümü 37.5 derecenin altında ise girişe izin veriliyor. 37.5 derecenin üstünde ise girişe izin verilmiyor. AVM'ye girişe izin verilip verilmediğini ekrana yazdıran bir program yazın.\n",
        "\n",
        "Program sonunda şöyle bir çıktı elde etmelisiniz:\n",
        "\n",
        "```\n",
        "Ateşiniz 37.5 derece. AVM'ye girebilirsin! Maske takmayı unutma!\n",
        "Ateşiniz 37.6 derece. AVM'ye giremezsin! Hemen evine dön!\n",
        "```"
      ]
    },
    {
      "cell_type": "code",
      "execution_count": 4,
      "metadata": {
        "id": "TSAXs8et_Te9"
      },
      "outputs": [
        {
          "name": "stdout",
          "output_type": "stream",
          "text": [
            "Ateşiniz 37.5 derece. AVM'ye girebilirsin! Maske takmayı unutma!\n"
          ]
        }
      ],
      "source": [
        "# 4.Problemin Çözümünü Buraya Yazınız\n",
        "\n",
        "sayi = input('ateşiniz ölçülüuor ')\n",
        "if(float(sayi)<37,5 ):\n",
        "      print(\"Ateşiniz 37.5 derece. AVM'ye girebilirsin! Maske takmayı unutma!\")\n",
        "else:\n",
        "      print(\"Ateşiniz 37.6 derece. AVM'ye giremezsin! Hemen evine dön!\")"
      ]
    },
    {
      "cell_type": "markdown",
      "metadata": {
        "id": "6AEkZrDt_Te9"
      },
      "source": [
        "# Problem 5\n",
        "YetGen bir spor kulübüyle sponsorluk anlaşması yapıyor. Kulüp, sponsorluk anlaşmasına göre her YetGen liderinin beden kitle indeksini hesaplamak istiyor. Spor kulübü, beden kitle indeksini hesaplamak için YetGen Jump Python liderlerinden Berkcan ve Ahmet'i arıyor. Berkcan ve Ahmet, kulübe yardımcı olmak için bir Python programı yazıyorlar. Sende bu iki YetGen liderine destek olmak ister misin?\n",
        "\n",
        "Kullanıcıdan alınan boy ve kilo değerlerine göre beden kitle indeksini hesaplayın ve şu kurallara göre ekrana şu yazıları yazdırın.\n",
        "\n",
        "\n",
        "Beden Kitle İndeksi, kişinin ağırlığının (kg olarak) boyunun karesine (m olarak) bölünmesiyle hesaplanır.\n",
        "\n",
        "\n",
        "```\n",
        " BKİ 18.5'un altındaysa -------> Zayıf\n",
        "\n",
        " BKİ 18.5 ile 25 arasındaysa ------> Normal\n",
        "\n",
        " BKİ 25 ile 30 arasındaysa --------> Fazla Kilolu\n",
        "\n",
        " BKİ 30'un üstündeyse -------------> Obez\n",
        "```\n",
        "\n"
      ]
    },
    {
      "cell_type": "code",
      "execution_count": null,
      "metadata": {
        "id": "t-XPI_u0_Te-"
      },
      "outputs": [],
      "source": [
        "# 5.Problemin Çözümünü Buraya Yazınız\n",
        "boy=flot(input(\"boyunuzu girin: \"))\n",
        "ağırlık= float(input(\"ağırlık girin: \"))\n",
        "bki = ağırlık/(boy**2)\n",
        "\n",
        "if bki<18.5:\n",
        "    print(\"zayıf\")\n",
        "\n",
        "elif 18.5<= bki < 25:\n",
        "    print(normal)\n",
        "elif 25<= bki <30:\n",
        "    print(\"fazla kilolu\")\n",
        "\n",
        "else:\n",
        "    print(\"obez\")"
      ]
    },
    {
      "cell_type": "markdown",
      "metadata": {
        "id": "oFsvQyaO_Te-"
      },
      "source": [
        "# Problem 6\n",
        "Kullanıcıdan isim, yaş ve eğitim bilgilerini isteyip ehliyet alabilme  durumunu kontrol ediniz. \n",
        "\n",
        "Ehliyet alma koşulu en az 18 yaşında ve eğitim durumu lise ya da üniversite olmalıdır. "
      ]
    },
    {
      "cell_type": "code",
      "execution_count": null,
      "metadata": {
        "id": "Tu2mcgco_Te-"
      },
      "outputs": [],
      "source": [
        "# 6.Problemin Çözümünü Buraya Yazınız\n",
        "isim= input(\"isim giriniz\")\n",
        "eğitim= input(\"eğitim düzeyinizi girin\")\n",
        "yas= int(input(\"yaşınızı giriniz\"))\n",
        "\n",
        "if yas >=18 and eğitim == 'lise'\n",
        "    print(f\"{isim} ehliyet alabilirsin\")\n",
        "\n",
        "elif yas>=18 and eğitim== 'üniversite'\n",
        "     print(f\"{isim} ehliyet alabilirsin\")\n",
        "\n",
        "else:\n",
        "       print(f\"{isim} ehliyet alamazsın\")\n"
      ]
    },
    {
      "cell_type": "markdown",
      "metadata": {
        "id": "eUkxVSAE_Te_"
      },
      "source": [
        "# Problem 7\n",
        "Bir yılın artık yıl olup olmadığını kontrol etmek için bir program yazın. \n",
        "Artık yıl kuralı:\n",
        "\n",
        "a) Eğer yılın son iki basamağı (00) ile bitmiyor ve yalnızca 4'e tam bölünüyorsa artık yıldır. Ya da, \n",
        "\n",
        "b) Eğer yıl 400'e tam bölünüyorsa artık yıldır.\n",
        "\n",
        "**Örneğin**\n",
        "```\n",
        "2017 artık yıl değildir.\n",
        "1900 artık yıl değildir\n",
        "2012 artık yıldır.\n",
        "2000 artık yıldır.\n",
        "```"
      ]
    },
    {
      "cell_type": "code",
      "execution_count": null,
      "metadata": {
        "id": "4uWh8qUL_Te_"
      },
      "outputs": [],
      "source": [
        "# 7.Problemin Çözümünü Buraya Yazınız\n",
        "yıl= int(input(\"yıl giriniz\"))\n",
        "\n",
        "if yıl %4 == 0 and yıl %100 !=0:\n",
        "    print(f\"{yıl}yılı artık yıldır\")\n",
        "\n",
        "elif yıl %400 ==0\n",
        "    print(f\"{yıl} yılı artık yıldır\")\n",
        "\n",
        "else:\n",
        "    print(f\"{} yılı artık yıl değildir\")"
      ]
    }
  ],
  "metadata": {
    "colab": {
      "provenance": []
    },
    "kernelspec": {
      "display_name": "Python 3.10.5 64-bit",
      "language": "python",
      "name": "python3"
    },
    "language_info": {
      "codemirror_mode": {
        "name": "ipython",
        "version": 3
      },
      "file_extension": ".py",
      "mimetype": "text/x-python",
      "name": "python",
      "nbconvert_exporter": "python",
      "pygments_lexer": "ipython3",
      "version": "3.11.1"
    },
    "orig_nbformat": 4,
    "vscode": {
      "interpreter": {
        "hash": "5026d2d6e7aaaaba093def813beadff083d8733e4a511af01735cbabd156995d"
      }
    }
  },
  "nbformat": 4,
  "nbformat_minor": 0
}
