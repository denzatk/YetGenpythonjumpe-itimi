{
  "cells": [
    {
      "cell_type": "markdown",
      "metadata": {
        "id": "tsD4YVAe_Te2"
      },
      "source": [
        "# Problem 1\n",
        "Bir sayının 7'ye bölünebilir olup olmadığını kontrol etmek \n",
        "için bir program yazın.\n",
        "\n",
        "İpucu: Mod operatörünü (%) kullanabilirsiniz."
      ]
    },
    {
      "cell_type": "code",
      "execution_count": 8,
      "metadata": {
        "id": "NGjvNwKx_Te7"
      },
      "outputs": [
        {
          "name": "stdout",
          "output_type": "stream",
          "text": [
            "False\n"
          ]
        }
      ],
      "source": [
        "# 1.Problemin Çözümünü Buraya Yazınız\n",
        "\n",
        "x = int(input(\"bir sayı giriniz : \"))\n",
        "\n",
        "print(x % 7 == 0 )"
      ]
    },
    {
      "cell_type": "markdown",
      "metadata": {
        "id": "Kg3qiBAI_Te8"
      },
      "source": [
        "# Problem 2\n",
        "Kullanıcıdan vize ve final notu isteyin. Girilen vize notunun %40’ı ve \n",
        "girilen finalnotunun ise %60’ı alınarak yıl sonu not ortalaması hesaplanacaktır. \n",
        "\n",
        "Bu not ortalaması eğer 85 ve üzeri ise AA, \n",
        "\n",
        "75 ve 85 arasında ise BA, \n",
        "\n",
        "70 ve 75 arasında ise BB, \n",
        "\n",
        "65 ve 70 arasında ise CB,\n",
        "\n",
        "60 ve 65 arasında ise CC,\n",
        "\n",
        "55 ve 60 arasında ise DC,\n",
        "\n",
        "50 ve 55 arasında ise DD olarak hesaplanacaktır. \n",
        "\n",
        "Bu öğrencinin yıl sonu toplam notu 50’nin altında ise FF ile dersten kalacaktır. \n",
        "\n",
        "Ayrıca öğrencinin final notu 50’nin altında ise direkt FF ile kalacaktır."
      ]
    },
    {
      "cell_type": "code",
      "execution_count": 12,
      "metadata": {
        "id": "MXTtCxI1_Te8"
      },
      "outputs": [
        {
          "name": "stdout",
          "output_type": "stream",
          "text": [
            "Not ortalaması:  91.2\n",
            "Harf Notu: AA\n"
          ]
        }
      ],
      "source": [
        "# 2.Problemin Çözümünü Buraya Yazınız\n",
        "\n",
        "vize = int(input(\"Vize notunuzu giriniz!\"))\n",
        "final = int(input(\"Final notunuzu giriniz!\"))\n",
        " \n",
        "ortalama = vize * 0.4 + final * 0.6\n",
        "print (\"Not ortalaması: \", ortalama)\n",
        " \n",
        "if(ortalama >= 85):\n",
        "  print(\"Harf Notu: AA\")\n",
        "elif(ortalama >= 75):\n",
        "  print(\"Harf Notu: BA\")\n",
        "elif(ortalama >= 70):\n",
        "  print(\"Harf Notu: BB\")\n",
        "elif(ortalama >= 65):\n",
        "  print(\"Harf Notu: CB\")\n",
        "elif(ortalama >= 60):\n",
        "  print(\"Harf Notu: CC\")\n",
        "elif(ortalama >= 55):\n",
        "  print(\"Harf Notu: DC\")\n",
        "elif(ortalama >= 50):\n",
        "  print(\"Harf Notu: DD\")\n",
        "elif(ortalama >= 50):\n",
        "  print(\"Harf Notu: FD\")\n",
        "else:\n",
        "  print(\"Harf Notu: FF\")"
      ]
    },
    {
      "cell_type": "markdown",
      "metadata": {
        "id": "tAoRYCTC_Te8"
      },
      "source": [
        "# Problem 3\n",
        "İki YetGenli Zirve'de karşılaşıyorlar. Birbirlerini tanımak için sorular soruyorlar. Birbirlerine yaşlarını soruyorlar. Akıllarına bir Python programı yazıp, yaşlarını ve isimlerini giriyorlar. Büyük olanın yaşını ekrana yazdıran programı yazıyorlar. Sende bu iki YetGenli'ye destek olmak ister misin?\n",
        "\n",
        "```\n",
        "Birinci YetGenlinin ismi: Ahmet\n",
        "Birinci YetGenlinin yaşı : 20\n",
        "İkinci YetGenlinin ismi: Mehmet\n",
        "İkinci YetGenlinin yaşı : 25\n",
        "Mehmet'in yaşı daha büyük ve yaşı 25'tir.\n",
        "```"
      ]
    },
    {
      "cell_type": "code",
      "execution_count": 27,
      "metadata": {
        "id": "bPjE8W0i_Te8"
      },
      "outputs": [],
      "source": [
        "# 3.Problemin Çözümünü Buraya Yazınız\n",
        "yas1 = int(input(\"lütfen yaş1  giriniz : \"))\n",
        "yas2 = int(input(\"lütfen yaş2 giriniz : \"))\n",
        "\n",
        "if yas1 > yas2:\n",
        "    print(\"büyük olanın yaşı yas1 dir\")\n",
        "elif yas2 > yas2:\n",
        "    print(\"büyük olanın yaşı yas2 dir\")\n"
      ]
    },
    {
      "cell_type": "markdown",
      "metadata": {
        "id": "zBVv8Tyg_Te9"
      },
      "source": [
        "# Problem 4\n",
        "Pandemi döneminde AVM'lerde ateş ölçümü yapılıyor. AVM'ye giren kişinin ateş ölçümü 37.5 derecenin altında ise girişe izin veriliyor. 37.5 derecenin üstünde ise girişe izin verilmiyor. AVM'ye girişe izin verilip verilmediğini ekrana yazdıran bir program yazın.\n",
        "\n",
        "Program sonunda şöyle bir çıktı elde etmelisiniz:\n",
        "\n",
        "```\n",
        "Ateşiniz 37.5 derece. AVM'ye girebilirsin! Maske takmayı unutma!\n",
        "Ateşiniz 37.6 derece. AVM'ye giremezsin! Hemen evine dön!\n",
        "```"
      ]
    },
    {
      "cell_type": "code",
      "execution_count": 2,
      "metadata": {
        "id": "TSAXs8et_Te9"
      },
      "outputs": [
        {
          "name": "stdout",
          "output_type": "stream",
          "text": [
            "Ateşiniz 37.6 derece. AVM'ye giremezsin! hemen evine dön!\n"
          ]
        }
      ],
      "source": [
        "# 4.Problemin Çözümünü Buraya Yazınız\n",
        "\n",
        "sicaklik=int(input(\"Sıcaklık Girin(℃):\"))\n",
        "if sicaklik <=37.5 :\n",
        "  print(\"Ateşiniz 37.5 derece. AVM'ye girebiliriz! Maske takmayı unutma!\")\n",
        "\n",
        "else:\n",
        "    print(\"Ateşiniz 37.6 derece. AVM'ye giremezsin! hemen evine dön!\")"
      ]
    },
    {
      "cell_type": "markdown",
      "metadata": {
        "id": "6AEkZrDt_Te9"
      },
      "source": [
        "# Problem 5\n",
        "YetGen bir spor kulübüyle sponsorluk anlaşması yapıyor. Kulüp, sponsorluk anlaşmasına göre her YetGen liderinin beden kitle indeksini hesaplamak istiyor. Spor kulübü, beden kitle indeksini hesaplamak için YetGen Jump Python liderlerinden Berkcan ve Ahmet'i arıyor. Berkcan ve Ahmet, kulübe yardımcı olmak için bir Python programı yazıyorlar. Sende bu iki YetGen liderine destek olmak ister misin?\n",
        "\n",
        "Kullanıcıdan alınan boy ve kilo değerlerine göre beden kitle indeksini hesaplayın ve şu kurallara göre ekrana şu yazıları yazdırın.\n",
        "\n",
        "\n",
        "Beden Kitle İndeksi, kişinin ağırlığının (kg olarak) boyunun karesine (m olarak) bölünmesiyle hesaplanır.\n",
        "\n",
        "\n",
        "```\n",
        " BKİ 18.5'un altındaysa -------> Zayıf\n",
        "\n",
        " BKİ 18.5 ile 25 arasındaysa ------> Normal\n",
        "\n",
        " BKİ 25 ile 30 arasındaysa --------> Fazla Kilolu\n",
        "\n",
        " BKİ 30'un üstündeyse -------------> Obez\n",
        "```\n",
        "\n"
      ]
    },
    {
      "cell_type": "code",
      "execution_count": 4,
      "metadata": {
        "id": "t-XPI_u0_Te-"
      },
      "outputs": [
        {
          "name": "stdout",
          "output_type": "stream",
          "text": [
            "Vücut kitle index'iniz 24.84\n",
            "Durumunuz: \n",
            "Normal\n"
          ]
        }
      ],
      "source": [
        "# 5.Problemin Çözümünü Buraya Yazınız\n",
        "\n",
        "boy=int(input(\"Boyunuzu giriniz(cm cinsinden): \"))\n",
        "kilo=float(input(\"kilonuzu giriniz: \"))\n",
        "vki=kilo/((boy/100)**2)\n",
        "print(\"Vücut kitle index'iniz {}\".format(round(vki,2)))\n",
        "print(\"Durumunuz: \")\n",
        "\n",
        "if vki <=18.5:\n",
        "    print(\"Zayıf\")\n",
        "    print(\"{} kilogram almanız gerekiyor\".format(round(18.5*((boy/100)**2)-kilo,2)))\n",
        "elif vki <=24.9:\n",
        "    print(\"Normal\")\n",
        "elif vki<=29.9:\n",
        "    print(\"Fazla kilolu\")\n",
        "    print(\"{} kilogram vermeniz gerekiyor\".format(round(kilo-24.9*((boy / 100) ** 2)),2))\n",
        "elif vki<=39.9:\n",
        "    print(\"Obez\")\n",
        "    print(\"{} kilogram vermeniz gerekiyor\".format(round(kilo - 24.9 * ((boy / 100) ** 2)), 2))\n"
      ]
    },
    {
      "cell_type": "markdown",
      "metadata": {
        "id": "oFsvQyaO_Te-"
      },
      "source": [
        "# Problem 6\n",
        "Kullanıcıdan isim, yaş ve eğitim bilgilerini isteyip ehliyet alabilme  durumunu kontrol ediniz. \n",
        "\n",
        "Ehliyet alma koşulu en az 18 yaşında ve eğitim durumu lise ya da üniversite olmalıdır. "
      ]
    },
    {
      "cell_type": "code",
      "execution_count": 6,
      "metadata": {
        "id": "Tu2mcgco_Te-"
      },
      "outputs": [
        {
          "ename": "SyntaxError",
          "evalue": "invalid syntax (3386346199.py, line 5)",
          "output_type": "error",
          "traceback": [
            "\u001b[1;36m  Cell \u001b[1;32mIn[6], line 5\u001b[1;36m\u001b[0m\n\u001b[1;33m    yas= float(input\"yaşınız nedir?\")\u001b[0m\n\u001b[1;37m                    ^\u001b[0m\n\u001b[1;31mSyntaxError\u001b[0m\u001b[1;31m:\u001b[0m invalid syntax\n"
          ]
        }
      ],
      "source": [
        "# 6.Problemin Çözümünü Buraya Yazınız\n",
        "\n",
        "isim= str(input(\"isminizi giriniz\"))\n",
        "soyİsim= str(input(\"soy isminizi girin?\"))\n",
        "yas= float(input\"yaşınız nedir?\")\n",
        "eğitimDurumu= str(input\"eğitim durumunu yazın\")\n",
        "\n",
        "\n"
      ]
    },
    {
      "cell_type": "markdown",
      "metadata": {
        "id": "eUkxVSAE_Te_"
      },
      "source": [
        "# Problem 7\n",
        "Bir yılın artık yıl olup olmadığını kontrol etmek için bir program yazın. \n",
        "Artık yıl kuralı:\n",
        "\n",
        "a) Eğer yılın son iki basamağı (00) ile bitmiyor ve yalnızca 4'e tam bölünüyorsa artık yıldır. Ya da, \n",
        "\n",
        "b) Eğer yıl 400'e tam bölünüyorsa artık yıldır.\n",
        "\n",
        "**Örneğin**\n",
        "```\n",
        "2017 artık yıl değildir.\n",
        "1900 artık yıl değildir\n",
        "2012 artık yıldır.\n",
        "2000 artık yıldır.\n",
        "```"
      ]
    },
    {
      "cell_type": "code",
      "execution_count": null,
      "metadata": {
        "id": "4uWh8qUL_Te_"
      },
      "outputs": [],
      "source": [
        "# 7.Problemin Çözümünü Buraya Yazınız"
      ]
    }
  ],
  "metadata": {
    "colab": {
      "provenance": []
    },
    "kernelspec": {
      "display_name": "Python 3.10.5 64-bit",
      "language": "python",
      "name": "python3"
    },
    "language_info": {
      "codemirror_mode": {
        "name": "ipython",
        "version": 3
      },
      "file_extension": ".py",
      "mimetype": "text/x-python",
      "name": "python",
      "nbconvert_exporter": "python",
      "pygments_lexer": "ipython3",
      "version": "3.11.1"
    },
    "orig_nbformat": 4,
    "vscode": {
      "interpreter": {
        "hash": "5026d2d6e7aaaaba093def813beadff083d8733e4a511af01735cbabd156995d"
      }
    }
  },
  "nbformat": 4,
  "nbformat_minor": 0
}
