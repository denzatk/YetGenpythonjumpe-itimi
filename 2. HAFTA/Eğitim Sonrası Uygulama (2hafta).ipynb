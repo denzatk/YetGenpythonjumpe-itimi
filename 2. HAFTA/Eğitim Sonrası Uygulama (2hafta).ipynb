{
 "cells": [
  {
   "cell_type": "code",
   "execution_count": null,
   "metadata": {},
   "outputs": [],
   "source": []
  }
 ],
 "metadata": {
  "kernelspec": {
   "display_name": "Python 3",
   "language": "python",
   "name": "python3"
  },
  "language_info": {
   "name": "python",
   "version": "3.11.1"
  },
  "orig_nbformat": 4,
  "vscode": {
   "interpreter": {
    "hash": "630c96c1b401bb5c49d41e384797bbfe01a5bca8fd09072f7148994823812b62"
   }
  }
 },
 "nbformat": 4,
 "nbformat_minor": 2
}
